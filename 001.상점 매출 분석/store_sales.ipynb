{
  "nbformat": 4,
  "nbformat_minor": 0,
  "metadata": {
    "colab": {
      "name": "store_sales.ipynb",
      "provenance": [],
      "collapsed_sections": []
    },
    "kernelspec": {
      "name": "python3",
      "display_name": "Python 3"
    },
    "language_info": {
      "name": "python"
    }
  },
  "cells": [
    {
      "cell_type": "code",
      "source": [
        "import pandas as pd"
      ],
      "metadata": {
        "id": "tj2Kaa0-DXRe"
      },
      "execution_count": 1,
      "outputs": []
    },
    {
      "cell_type": "code",
      "execution_count": 11,
      "metadata": {
        "colab": {
          "base_uri": "https://localhost:8080/"
        },
        "id": "S0L5aq7zDQBo",
        "outputId": "d6402d97-59bd-470e-f9cf-7e2c85d01780"
      },
      "outputs": [
        {
          "output_type": "stream",
          "name": "stdout",
          "text": [
            "     Store ID   Store_Area  Items_Available  Daily_Customer_Count  Store_Sales\n",
            "0            1        1659             1961                   530        66490\n",
            "1            2        1461             1752                   210        39820\n",
            "2            3        1340             1609                   720        54010\n",
            "3            4        1451             1748                   620        53730\n",
            "4            5        1770             2111                   450        46620\n",
            "..         ...         ...              ...                   ...          ...\n",
            "891        892        1582             1910                  1080        66390\n",
            "892        893        1387             1663                   850        82080\n",
            "893        894        1200             1436                  1060        76440\n",
            "894        895        1299             1560                   770        96610\n",
            "895        896        1174             1429                  1110        54340\n",
            "\n",
            "[896 rows x 5 columns]\n"
          ]
        }
      ],
      "source": [
        "store_data = pd.read_csv(\"/content/Stores.csv\") #colab 저장소 경로에서 파일 가져와서 data라는 변수에 일단 저장하기\n",
        "          #Store ID: (색인) 특정 상점의 ID\n",
        "          #Store_Area: 상점의 물리적 영역(면적). 제곱 야드 단위\n",
        "          #Items_Available: 해당 상점에서 살 수 있는 제품의 수\n",
        "          #Daily: 한 달 동안 평균 매장을 방문한 고객 수\n",
        "          #Store_Sales: 한 달 동안 매장에서 발생한 (US $) 매출\n",
        "print(store_data)\n",
        "  # 질문 만들기\n",
        "  # 1) 상점 매출과 관련 있는 변수는 무엇일까?  - 가게 면적, 제품 수\n",
        "  # 2) 방문 고객의 수가 늘어나면 상점의 매출로 오를까? //방문 고객의 수와 별도로, 특히 더 많은 지출을 하는 고객들이 있다면 그들의 특징은 무엇일까? 평균 소득이 높은 지역의 상점은 방문 고객 수와는 별도로 매출이 더 높을 수 있지 않을까?(이 질문은 가게들의 지역 정보와 지역 평균 소득 데이터가 추가적으로 필요함.)\n",
        "  # 3) 방문 고객 수에 영향을 미치는 변수는 무엇일까? - 가게 면적, 제품 수, 가게 매출(입소문을 통해 가게의 인기가 기존 방문 고객의 증가로 이어질 수도 있지 않을까?)"
      ]
    }
  ]
}